{
 "cells": [
  {
   "cell_type": "code",
   "execution_count": 4,
   "metadata": {},
   "outputs": [],
   "source": [
    "import os\n",
    "import requests\n",
    "import json\n",
    "import numpy as np\n",
    "import pandas as pd\n",
    "import matplotlib.pyplot as plt\n",
    "from dotenv import load_dotenv\n",
    "from crewai import Agent, Task, Crew, Process\n",
    "from langchain.tools import tool\n",
    "import time\n",
    "from datetime import datetime"
   ]
  },
  {
   "cell_type": "code",
   "execution_count": 20,
   "metadata": {},
   "outputs": [],
   "source": [
    "def fetch_nasa_exoplanet_data(limit=10):\n",
    "    \"\"\"Fetch exoplanet data from NASA Exoplanet Archive.\"\"\"\n",
    "    try:\n",
    "        # API endpoint and query\n",
    "        base_url = \"https://exoplanetarchive.ipac.caltech.edu/TAP/sync\"\n",
    "\n",
    "        query = f\"SELECT TOP {limit} pl_name, pl_orbper, pl_rade, pl_bmasse, pl_orbeccen, st_spectype, discoverymethod, ra, dec FROM ps WHERE default_flag=1\"\n",
    "\n",
    "        params = {\n",
    "            \"query\": query,\n",
    "            \"format\": \"json\"\n",
    "        }\n",
    "        response = requests.get(base_url, params=params)\n",
    "\n",
    "        if response.status_code == 200:\n",
    "            return response.json()\n",
    "        else:\n",
    "            return f\"Error fetching NASA exoplanet data: {response.status_code} - {response.text}\"\n",
    "    \n",
    "    except Exception as e:\n",
    "        return f\"Exception occurred: {str(e)}\""
   ]
  },
  {
   "cell_type": "code",
   "execution_count": 21,
   "metadata": {},
   "outputs": [],
   "source": [
    "results = fetch_nasa_exoplanet_data()"
   ]
  },
  {
   "cell_type": "code",
   "execution_count": 22,
   "metadata": {},
   "outputs": [
    {
     "name": "stdout",
     "output_type": "stream",
     "text": [
      "[{'pl_name': 'OGLE-TR-10 b', 'pl_orbper': 3.101278, 'pl_rade': 14.011, 'pl_bmasse': 197.046, 'pl_orbeccen': None, 'st_spectype': None, 'discoverymethod': 'Transit', 'ra': 267.8677483, 'dec': -29.8764758}, {'pl_name': 'BD-08 2823 c', 'pl_orbper': 237.6, 'pl_rade': None, 'pl_bmasse': 104.0, 'pl_orbeccen': 0.19, 'st_spectype': 'K3 V', 'discoverymethod': 'Radial Velocity', 'ra': 150.1971964, 'dec': -9.5165689}, {'pl_name': 'HD 110014 b', 'pl_orbper': 835.477, 'pl_rade': None, 'pl_bmasse': 3524.59, 'pl_orbeccen': 0.462, 'st_spectype': 'K2 III', 'discoverymethod': 'Radial Velocity', 'ra': 189.8111935, 'dec': -7.9956702}, {'pl_name': 'GJ 667 C f', 'pl_orbper': 39.026, 'pl_rade': None, 'pl_bmasse': 2.7, 'pl_orbeccen': 0.03, 'st_spectype': 'M1.5 V', 'discoverymethod': 'Radial Velocity', 'ra': 259.7510609, 'dec': -34.9977651}, {'pl_name': 'GJ 667 C g', 'pl_orbper': 256.2, 'pl_rade': None, 'pl_bmasse': 4.6, 'pl_orbeccen': 0.08, 'st_spectype': 'M1.5 V', 'discoverymethod': 'Radial Velocity', 'ra': 259.7510609, 'dec': -34.9977651}, {'pl_name': 'GJ 667 C c', 'pl_orbper': 28.14, 'pl_rade': None, 'pl_bmasse': 3.8, 'pl_orbeccen': 0.02, 'st_spectype': 'M1.5 V', 'discoverymethod': 'Radial Velocity', 'ra': 259.7510609, 'dec': -34.9977651}, {'pl_name': 'Kepler-227 b', 'pl_orbper': 9.488015, 'pl_rade': 3.11, 'pl_bmasse': None, 'pl_orbeccen': None, 'st_spectype': None, 'discoverymethod': 'Transit', 'ra': 291.9342748, 'dec': 48.141676}, {'pl_name': 'HATS-61 b', 'pl_orbper': 7.817953, 'pl_rade': 13.395, 'pl_bmasse': 1080.622, 'pl_orbeccen': 0.092, 'st_spectype': None, 'discoverymethod': 'Transit', 'ra': 61.6578005, 'dec': -25.3496674}, {'pl_name': 'HATS-63 b', 'pl_orbper': 3.0566527, 'pl_rade': 13.529, 'pl_bmasse': 305.1168, 'pl_orbeccen': 0.136, 'st_spectype': None, 'discoverymethod': 'Transit', 'ra': 67.418582, 'dec': -28.1972149}, {'pl_name': 'HD 108236 c', 'pl_orbper': 6.203449, 'pl_rade': 2.071, 'pl_bmasse': None, 'pl_orbeccen': 0.034, 'st_spectype': None, 'discoverymethod': 'Transit', 'ra': 186.5740627, 'dec': -51.3630519}]\n"
     ]
    }
   ],
   "source": [
    "print(results)"
   ]
  },
  {
   "cell_type": "code",
   "execution_count": null,
   "metadata": {},
   "outputs": [],
   "source": [
    "https://exoplanetarchive.ipac.caltech.edu/TAP/sync?query=SELECT+TOP+10+pl_name,hostname,disc_year,discoverymethod+FROM+ps&format=json"
   ]
  }
 ],
 "metadata": {
  "kernelspec": {
   "display_name": "dev",
   "language": "python",
   "name": "python3"
  },
  "language_info": {
   "codemirror_mode": {
    "name": "ipython",
    "version": 3
   },
   "file_extension": ".py",
   "mimetype": "text/x-python",
   "name": "python",
   "nbconvert_exporter": "python",
   "pygments_lexer": "ipython3",
   "version": "3.12.4"
  }
 },
 "nbformat": 4,
 "nbformat_minor": 2
}
